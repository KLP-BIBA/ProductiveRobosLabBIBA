{
 "cells": [
  {
   "cell_type": "code",
   "execution_count": 1,
   "id": "cb362b8c-bb2c-4752-9a04-81584a071917",
   "metadata": {},
   "outputs": [],
   "source": [
    "from IPython.display import display, Markdown, IFrame\n",
    "from ipywidgets import Button, Layout, GridBox\n",
    "from pathlib import Path\n",
    "from sidecar import Sidecar"
   ]
  },
  {
   "cell_type": "code",
   "execution_count": 2,
   "id": "a737a79b",
   "metadata": {
    "vscode": {
     "languageId": "plaintext"
    }
   },
   "outputs": [],
   "source": [
    "from helper import Launcher, Robots, Rvizweb"
   ]
  },
  {
   "cell_type": "code",
   "execution_count": 3,
   "id": "0aee49d7-a888-483c-8f90-98fa26aa2843",
   "metadata": {},
   "outputs": [],
   "source": [
    "IFRAME = IFrame(src='http://localhost:8001/rvizweb/webapps/rvizweb/build/www/index.html', width='100%', height='100%')\n",
    "def MAKE_SIDECAR():\n",
    "    return Sidecar(title='RVIZWEB', anchor='right')\n",
    "RVIZWEB = Rvizweb(make_sidecar=MAKE_SIDECAR, iframe=IFRAME, display=display)\n",
    "ROBOTS = Robots()\n",
    "LAUNCHER = Launcher(Path.home() / 'work/launch/robots.launch')"
   ]
  },
  {
   "cell_type": "code",
   "execution_count": 4,
   "id": "cd310fc4-5fd5-44c3-9c04-10cb8250f2df",
   "metadata": {},
   "outputs": [],
   "source": [
    "def create_button(name):\n",
    "    btn = Button(\n",
    "        description=name,\n",
    "        layout=Layout(width='auto', height='50px'),\n",
    "        style={'font_size':'1rem'},\n",
    "        tooltip=f\"Launch robot: {name}\"\n",
    "    )\n",
    "    def launch_robot(name):\n",
    "        urdf_file = ROBOTS.get_urdf_file(name)\n",
    "        if urdf_file:\n",
    "            print(f'Launch robot {name} with urdf file {str(urdf_file)}')\n",
    "            LAUNCHER.launch(urdf_file=urdf_file,\n",
    "                            process_name=name,\n",
    "                            rvizweb=RVIZWEB)\n",
    "        else:\n",
    "            print(f'No urdf file for robot \"{name}\" available')\n",
    "    btn.on_click(lambda b: launch_robot(name))\n",
    "    return btn"
   ]
  },
  {
   "cell_type": "code",
   "execution_count": 5,
   "id": "c00840dc-32ef-4fe8-a9b9-9147ebf697af",
   "metadata": {},
   "outputs": [],
   "source": [
    "ROBOTS.register('Cylinder', Path.home() / 'work/urdf/01-my-first.urdf')\n",
    "ROBOTS.register('Multishape', Path.home() / 'work/urdf/02-multipleshapes.urdf')\n",
    "ROBOTS.register('Origin', Path.home() / 'work/urdf/03-origins.urdf')\n",
    "ROBOTS.register('Materials', Path.home() / 'work/urdf/04-materials.urdf')\n",
    "ROBOTS.register('Visual', Path.home() / 'work/urdf/05-visual.urdf')\n",
    "ROBOTS.register('Flexible', Path.home() / 'work/urdf/06-flexible.urdf')\n",
    "ROBOTS.register('Physics', Path.home() / 'work/urdf/07-physics.urdf')"
   ]
  },
  {
   "cell_type": "code",
   "execution_count": 6,
   "id": "aed0a328-5a31-46ea-88a4-3e3e61d3fa54",
   "metadata": {},
   "outputs": [
    {
     "data": {
      "text/markdown": [
       "#### Click the buttons below to launch a new robot."
      ],
      "text/plain": [
       "<IPython.core.display.Markdown object>"
      ]
     },
     "metadata": {},
     "output_type": "display_data"
    },
    {
     "data": {
      "application/vnd.jupyter.widget-view+json": {
       "model_id": "3b76521e6ca148fe9ab55fbc055cc977",
       "version_major": 2,
       "version_minor": 0
      },
      "text/plain": [
       "GridBox(children=(Button(description='Cylinder', layout=Layout(height='50px', width='auto'), style=ButtonStyle…"
      ]
     },
     "metadata": {},
     "output_type": "display_data"
    }
   ],
   "source": [
    "selection_widget = GridBox([create_button(robot) for robot in ROBOTS.get_robots()], layout=Layout(grid_template_columns=\"repeat(4, 25%)\"))\n",
    "if LAUNCHER.get_process_name() != None:\n",
    "    display(Markdown(f'### Robot **{LAUNCHER.get_process_name()}** Launched'))\n",
    "display(Markdown('#### Click the buttons below to launch a new robot.'))\n",
    "display(selection_widget)"
   ]
  }
 ],
 "metadata": {
  "kernelspec": {
   "display_name": "Python 3 (ipykernel)",
   "language": "python",
   "name": "python3"
  },
  "language_info": {
   "codemirror_mode": {
    "name": "ipython",
    "version": 3
   },
   "file_extension": ".py",
   "mimetype": "text/x-python",
   "name": "python",
   "nbconvert_exporter": "python",
   "pygments_lexer": "ipython3",
   "version": "3.10.6"
  }
 },
 "nbformat": 4,
 "nbformat_minor": 5
}
