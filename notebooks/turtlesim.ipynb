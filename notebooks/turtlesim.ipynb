{
 "cells": [
  {
   "cell_type": "markdown",
   "id": "50507466-8eab-462b-b250-3fc39928da36",
   "metadata": {},
   "source": [
    "# Getting Started with Turtlesim\n",
    "Source: http://wiki.ros.org/turtlesim\n",
    "\n",
    "The `turtlesim` is already installed and the `roscore` is already started. Therefore we can directly run turtlesim demo."
   ]
  },
  {
   "cell_type": "markdown",
   "id": "8e50fa1f-e3d4-46f9-a453-014dd04468c4",
   "metadata": {
    "execution": {
     "iopub.execute_input": "2024-03-18T14:40:11.719228Z",
     "iopub.status.busy": "2024-03-18T14:40:11.718818Z",
     "iopub.status.idle": "2024-03-18T14:40:11.724702Z",
     "shell.execute_reply": "2024-03-18T14:40:11.723839Z",
     "shell.execute_reply.started": "2024-03-18T14:40:11.719199Z"
    },
    "tags": []
   },
   "source": [
    "## Run Turlesim\n",
    "\n",
    "1. Open the `Xpra Desktop`\n",
    "1. Open a new `terminal` and execute:\n",
    "\n",
    "    ```bash\n",
    "    rosrun turtlesim turtlesim_node\n",
    "    ```\n",
    "\n",
    "\n",
    "You should see the TurtleSim window open in the Xpra Desktop"
   ]
  },
  {
   "cell_type": "code",
   "execution_count": 1,
   "id": "7cf52ce2-59f2-456e-a766-25d24b3e830e",
   "metadata": {},
   "outputs": [
    {
     "data": {
      "text/html": [
       "\n",
       "        <iframe\n",
       "            width=\"900\"\n",
       "            height=\"600\"\n",
       "            src=\"http://localhost:8090\"\n",
       "            frameborder=\"0\"\n",
       "            allowfullscreen\n",
       "            \n",
       "        ></iframe>\n",
       "        "
      ],
      "text/plain": [
       "<IPython.lib.display.IFrame at 0x7fdd3447ead0>"
      ]
     },
     "execution_count": 1,
     "metadata": {},
     "output_type": "execute_result"
    }
   ],
   "source": [
    "from IPython.display import IFrame\n",
    "IFrame(src='http://localhost:8090', width=900, height=600)"
   ]
  },
  {
   "cell_type": "markdown",
   "id": "ac109ba0-161e-4b7d-90ce-b93ee0b34883",
   "metadata": {},
   "source": [
    "## Check running ROS node\n",
    "You can also run the following commands in a new terminal."
   ]
  },
  {
   "cell_type": "code",
   "execution_count": null,
   "id": "03da9fdb-e6c8-4b4e-97ac-4ee366486e97",
   "metadata": {
    "tags": []
   },
   "outputs": [],
   "source": [
    "!rosnode list"
   ]
  },
  {
   "cell_type": "code",
   "execution_count": null,
   "id": "db955fd9-04c5-455d-b75f-0cd6abce33ca",
   "metadata": {
    "tags": []
   },
   "outputs": [],
   "source": [
    "!rosnode info /turtlesim"
   ]
  },
  {
   "cell_type": "markdown",
   "id": "ecd9ac20-deb7-4e69-9fb5-66c93f6e45d9",
   "metadata": {},
   "source": [
    "## Publish ROS messages\n",
    "Publish messages to topic `/turtle1/cmd_vel` to control the turtle"
   ]
  },
  {
   "cell_type": "code",
   "execution_count": null,
   "id": "cacbf573-23b9-41ca-b048-6c72397b4a0f",
   "metadata": {
    "tags": []
   },
   "outputs": [],
   "source": [
    "from geometry_msgs.msg import Twist, Vector3\n",
    "import rospy\n",
    "rospy.init_node('turtlesim_notebook')\n",
    "\n",
    "cmd_vel_pub = rospy.Publisher('/turtle1/cmd_vel', Twist, queue_size=5)\n",
    "cmd_vel_msg = Twist()\n",
    "cmd_vel_msg.linear.x = 20\n",
    "cmd_vel_msg.angular.z = 10\n",
    "cmd_vel_pub.publish(cmd_vel_msg)"
   ]
  },
  {
   "cell_type": "markdown",
   "id": "edb3f979-3182-4879-9f5a-e08a0c379e4c",
   "metadata": {},
   "source": [
    "## GUI tools"
   ]
  },
  {
   "cell_type": "code",
   "execution_count": null,
   "id": "55591e12-364a-44a8-a316-3c5e40666b19",
   "metadata": {
    "tags": []
   },
   "outputs": [],
   "source": [
    "!rqt"
   ]
  },
  {
   "cell_type": "code",
   "execution_count": null,
   "id": "ead7e22f-17cc-4b2f-bc0b-d1aade0dccde",
   "metadata": {
    "tags": []
   },
   "outputs": [],
   "source": [
    "!rqt_topic"
   ]
  },
  {
   "cell_type": "code",
   "execution_count": null,
   "id": "a416dfd4-4952-41a8-a5e7-ca0b610802df",
   "metadata": {
    "tags": []
   },
   "outputs": [],
   "source": [
    "!rqt_graph"
   ]
  }
 ],
 "metadata": {
  "kernelspec": {
   "display_name": "Python 3 (ipykernel)",
   "language": "python",
   "name": "python3"
  },
  "language_info": {
   "codemirror_mode": {
    "name": "ipython",
    "version": 3
   },
   "file_extension": ".py",
   "mimetype": "text/x-python",
   "name": "python",
   "nbconvert_exporter": "python",
   "pygments_lexer": "ipython3",
   "version": "3.10.6"
  }
 },
 "nbformat": 4,
 "nbformat_minor": 5
}
